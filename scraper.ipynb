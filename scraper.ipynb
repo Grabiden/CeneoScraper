{
 "cells": [
  {
   "cell_type": "markdown",
   "metadata": {},
   "source": [
    "### import bibliotek\n"
   ]
  },
  {
   "cell_type": "code",
   "execution_count": 8,
   "metadata": {},
   "outputs": [],
   "source": [
    "import requests\n",
    "from bs4 import BeautifulSoup"
   ]
  },
  {
   "cell_type": "markdown",
   "metadata": {},
   "source": [
    "### wysyłanie żądania dostępu do strony z opiniami oprodukcie"
   ]
  },
  {
   "cell_type": "code",
   "execution_count": null,
   "metadata": {},
   "outputs": [
    {
     "data": {
      "text/plain": [
       "200"
      ]
     },
     "execution_count": 9,
     "metadata": {},
     "output_type": "execute_result"
    }
   ],
   "source": [
    "url = \"https://www.ceneo.pl/84514582#tab=reviews\"\n",
    "response = requests.get(url)\n",
    "response.status_code\n"
   ]
  },
  {
   "cell_type": "code",
   "execution_count": 14,
   "metadata": {},
   "outputs": [],
   "source": [
    "if response.status_code == 200:\n",
    "    text = response.text\n",
    "    page_dom = BeautifulSoup(text, \"html.parser\")\n",
    "    opinions = page_dom.select(\"div.js_product-review:not(.user-post--highlight)\")"
   ]
  },
  {
   "cell_type": "markdown",
   "metadata": {},
   "source": [
    "### Dla każdej z opini wydobycie z kodu  HTML poszczególnych składowych i zapisanie ich w postaci złożonych struktur danych"
   ]
  },
  {
   "cell_type": "code",
   "execution_count": null,
   "metadata": {},
   "outputs": [],
   "source": [
    "for opinion in opinions:\n",
    "    try:\n",
    "        single_opinion = {\n",
    "            \"review_id\": opinion['data-entry-id'],\n",
    "            \"author\": opinion.select_one(\"span.user-post__author-name\").text.strip(),\n",
    "            \"recomendation\": opinion.select_one(\"span.user-post__author-recomendation > em\").text.strip(),\n",
    "            \"stars\": opinion.select_one(\"span.user-post__score-count\").text.strip(),\n",
    "            \"pros\": [p.text.strip() for p in opinion.select(\"div.review-feature__item--positive\")],\n",
    "            \"cons\": [c.text.strip() for c in opinion.select(\"div.review-feature__item--negative\")],\n",
    "            \"content\": opinion.select_one(\"div.user-post__text\").text.strip(),\n",
    "            \"likes\": opinion.select_one(\"button.vote-yes > span\").text.strip(),\n",
    "            \"dislikes\" : opinion.select_one(\"button.vote-no > span\").text.strip(),\n",
    "            \"publish_date\": opinion.select_one(\"span.user-post__published > time:nth-child(1)\")['datetime'].strip(),\n",
    "            \"publish_date\": opinion.select_one(\"span.user-post__published > time:nth-child(2)\")['datetime'].strip(),\n",
    "        }\n",
    "        print(single_opinion)\n",
    "    except (AttributeError, TypeError):\n",
    "        pass    "
   ]
  },
  {
   "cell_type": "code",
   "execution_count": null,
   "metadata": {},
   "outputs": [],
   "source": []
  }
 ],
 "metadata": {
  "kernelspec": {
   "display_name": ".venv",
   "language": "python",
   "name": "python3"
  },
  "language_info": {
   "codemirror_mode": {
    "name": "ipython",
    "version": 3
   },
   "file_extension": ".py",
   "mimetype": "text/x-python",
   "name": "python",
   "nbconvert_exporter": "python",
   "pygments_lexer": "ipython3",
   "version": "3.13.0"
  }
 },
 "nbformat": 4,
 "nbformat_minor": 2
}
